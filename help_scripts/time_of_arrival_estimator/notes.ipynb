{
 "cells": [
  {
   "cell_type": "markdown",
   "metadata": {},
   "source": [
    "What if I want to reach the ball as fast as possible with as much speed as possible? I would want to turn to where the ball is in my line of site while losing as little speed as possible turning for the ball.\n",
    "\n",
    "Since the curvature of a turn is a piecewise function, then slowing down to make a sharper turn will lead to a the path changing radius at different rates with different speeds:\n",
    "\n",
    "$$k = \\{\\begin{array}{cc}\n",
    "    0.0069 - 0.00000584s & 0 < s < 500 \\\\\n",
    "    0.00398 - 0.00000322s & 500 < s < 1000 \\\\\n",
    "    0.00235 - 0.00000195s & 1000 < s < 1500 \\\\\n",
    "    0.001375 - 0.0000011s & 1500 < s < 1750 \\\\\n",
    "    0.0011 - 0.0000004s & 1750 < s < 2300\n",
    "\\end{array}$$\n",
    "\n",
    "The velocity itself is a complex equation depending on action taken. However, for fastest velocity decrease breaking is:\n",
    "$$s(t)=s(t-1) - 3500$$\n",
    "\n",
    "Meanwhile coasting is a measly:\n",
    "$$s(t)=s(t-1) - 525$$\n",
    "\n"
   ]
  },
  {
   "cell_type": "markdown",
   "metadata": {},
   "source": [
    "Now there is no need to slow down if the needed curvature is smaller than the maximum allowed for the speed, but if we need to slow down, then we need to reach the velocity that has the desired curvature.\n",
    "\n",
    "If we could slow down instantly, then this would have been easy. We calculate that the car travels the arc in the desired speed. However, we slow down gradually, and the curvature decreases linearly kind of. This will lead to under turning, unless the desired curvature is properly updated as we move.\n",
    "\n",
    "The desired curvature depends on the angle we need to turn, where the angular velocity is determined by the curvature:\n",
    "$$\\omega=\\frac{s}{r}=ks$$\n",
    "\n",
    "Since increasing v decreases k, then we need to decrease v just enough to achieve largest angular velocity, only if we want to make the fastest turn possible. Sadly preserving speed sometimes means we need to take a larger turn."
   ]
  },
  {
   "cell_type": "markdown",
   "metadata": {},
   "source": [
    "At the start of the turn the angle we need to turn is the angle between the orientation vector of the car and the vector pointing from the car to the ball.\n",
    "\n",
    "Easily enough the orientation vector of the car is turning according to the angular velocity. However, the amount we need to turn is also increasing, as the vector form the car to the ball is also turning away from us."
   ]
  },
  {
   "cell_type": "markdown",
   "metadata": {},
   "source": [
    "Angle between two vectors:\n",
    "$$\\theta = \\arccos\\left(\\frac{x\\cdot y}{|x||y|}\\right)$$\n",
    "\n",
    "Let c be car position, b be ball position and a be car orientation:\n",
    "$$\\theta = \\arccos\\left(\\frac{a\\cdot (b-c)}{|a||b-c|}\\right)$$\n",
    "$$\\theta = \\arccos\\left(\\frac{a\\cdot b - a\\cdot c}{|b-c|}\\right)=\\arccos\\left(\\frac{a\\cdot b - a\\cdot c}{d}\\right)$$\n"
   ]
  },
  {
   "cell_type": "markdown",
   "metadata": {},
   "source": [
    "$$a(t)=\\begin{bmatrix}\\cos(\\omega(t))&-\\sin(\\omega(t))&0\\\\ \\sin(\\omega(t))&\\cos(\\omega(t))&0\\\\ 0&0&1\\end{bmatrix}a(t-1)$$\n",
    "$$a(t)=\\begin{bmatrix}\\cos(k(t)v(t))&-\\sin(k(t)v(t))&0\\\\ \\sin(k(t)v(t))&\\cos(k(t)v(t))&0\\\\ 0&0&1\\end{bmatrix}a(t-1)$$\n",
    "$$a(t)=\\left(\\prod_{i=t_i}^{t}{\\begin{bmatrix}\\cos(k(i)v(i))&-\\sin(k(i)v(i))&0\\\\ \\sin(k(i)v(i))&\\cos(k(i)v(i))&0\\\\ 0&0&1\\end{bmatrix}}\\right)a(t_i)$$\n",
    "$$c(t)=c(t-1)+v(t-1)$$"
   ]
  },
  {
   "cell_type": "markdown",
   "metadata": {},
   "source": [
    "The full change in the vectors is:\n",
    "$$\\phi'=\\sum_{i=t_i}^{t}{k(i)s(i)}$$\n",
    "$$a(t)=\\begin{bmatrix}\\cos(\\phi')&-\\sin(\\phi')&0\\\\ \\sin(\\phi')&\\cos(\\phi')&0\\\\ 0&0&1\\end{bmatrix}a(t_i)$$\n",
    "$$c(t)=c(t_i)+\\sum_{i=t_i}^{t}{v(i)}$$\n",
    "\n",
    "Leading to the changing desired angle:\n",
    "$$\\theta(t)=\\arccos\\left(\\frac{a(t)\\cdot b - a(t)\\cdot c(t)}{|b-c(t)|}\\right)$$\n",
    "$$\\theta(t)=\\arccos\\left(\\frac{\\begin{bmatrix}\\cos(\\phi')&-\\sin(\\phi')&0\\\\ \\sin(\\phi')&\\cos(\\phi')&0\\\\ 0&0&1\\end{bmatrix}a(t_i)\\cdot b - \\begin{bmatrix}\\cos(\\phi')&-\\sin(\\phi')&0\\\\ \\sin(\\phi')&\\cos(\\phi')&0\\\\ 0&0&1\\end{bmatrix}a(t_i)\\cdot (c(t_i)+\\sum_{i=t_i}^{t}{v(i)})}{|b-c(t_i)+\\sum_{i=t_i}^{t}{v(i)}|}\\right)$$\n",
    "\n",
    "And since $a(t)$ is just a normalized $v(t)$ we also have:\n",
    "$$v(t)=|v(t)|a(t) = s(t)a(t)$$"
   ]
  },
  {
   "cell_type": "markdown",
   "metadata": {},
   "source": [
    "What if in time we calculate it as follows:\n",
    "- Brake until desired curvature is reached\n",
    "- The amount to break is determined by the desired curvature + an error term being the added curvature\n",
    "\n",
    "Time to brake to reach desired curvature is:\n",
    "$$t_{brake}(k)=\\frac{s_0 - s(k)}{3500} + \\epsilon$$\n",
    "$$\\epsilon=\\frac{s(k)-s(k(t))}{3500}$$\n",
    "\n",
    "We can iterativally solve this by:\n",
    "- Finding the current desired curvature\n",
    "- Applying break for a timestep of size $\\Delta t$ (Updating s(t) and a(t))\n",
    "- Calculating new desired curvature\n",
    "- Repeat\n",
    "\n",
    "I am kinda missing the function for desired curvature. Oops. The criteria for the desired curvature is to:\n",
    "- Turn my orientation\n",
    "- As fast as possible\n",
    "\n",
    "Sadly this alone will just lead to around 850, as the angular velocity is maximum on that speed. I will build a script using this algorithm anyways to test"
   ]
  }
 ],
 "metadata": {
  "language_info": {
   "name": "python"
  }
 },
 "nbformat": 4,
 "nbformat_minor": 2
}
